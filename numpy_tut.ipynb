{
 "cells": [
  {
   "cell_type": "code",
   "execution_count": 2,
   "id": "787e1e54-358d-499e-a587-c31a3802e775",
   "metadata": {},
   "outputs": [],
   "source": [
    "#Learning how to use numpy\n",
    "import numpy as np"
   ]
  },
  {
   "cell_type": "code",
   "execution_count": 3,
   "id": "770fdcf6-70e6-4c65-88fb-bf51a170e937",
   "metadata": {},
   "outputs": [
    {
     "name": "stdout",
     "output_type": "stream",
     "text": [
      "[1 2 3]\n"
     ]
    }
   ],
   "source": [
    "#Creating a numpy array of rank 1\n",
    "arr1 = np.array([1, 2, 3])\n",
    "print(arr1)"
   ]
  },
  {
   "cell_type": "code",
   "execution_count": 5,
   "id": "55ab5013-f9d4-4e75-bb0b-4eca19e11354",
   "metadata": {},
   "outputs": [
    {
     "name": "stdout",
     "output_type": "stream",
     "text": [
      "[[1 2 3]\n",
      " [4 5 6]]\n"
     ]
    }
   ],
   "source": [
    "#Creating a numpy array of rank 2\n",
    "arr2 = np.array([[1,2,3],\n",
    "                [4,5,6]])\n",
    "print(arr2)"
   ]
  },
  {
   "cell_type": "code",
   "execution_count": 6,
   "id": "846ea166-640e-4737-af65-f6d3c9353826",
   "metadata": {},
   "outputs": [
    {
     "name": "stdout",
     "output_type": "stream",
     "text": [
      "[1 2 3]\n"
     ]
    }
   ],
   "source": [
    "#Creating a numpy array from a tuple\n",
    "arr3 = np.array((1,2,3))\n",
    "print(arr3)"
   ]
  },
  {
   "cell_type": "code",
   "execution_count": 11,
   "id": "05a155e9-5acc-4234-9c44-a79729d3d2ef",
   "metadata": {},
   "outputs": [
    {
     "name": "stdout",
     "output_type": "stream",
     "text": [
      "First two rows and the alternate columns(i.e. 0 & 2):\n",
      " [[-1.  0.]\n",
      " [ 4.  6.]]\n"
     ]
    }
   ],
   "source": [
    "arr4 = np.array([[-1, 2, 0, 4],\n",
    "                [4, -0.5, 6, 0],\n",
    "                [2.6, 0, 7, 8],\n",
    "                [3, -7, 4, 2.0]])\n",
    "\n",
    "#Printing a range of array with the use of slicing method\n",
    "arr5 = arr4[:2, ::2]\n",
    "print(\"First two rows and the alternate columns(i.e. 0 & 2):\\n\", arr5)"
   ]
  },
  {
   "cell_type": "code",
   "execution_count": 15,
   "id": "dcfed80e-53f2-406e-bd0a-97bfd5917425",
   "metadata": {},
   "outputs": [
    {
     "name": "stdout",
     "output_type": "stream",
     "text": [
      "\n",
      " Elements at indices (1, 3), (1, 2), (0, 1), (3, 0): \n",
      " [0. 6. 2. 3.]\n"
     ]
    }
   ],
   "source": [
    "arr5 = arr4[[1,1,0,3],\n",
    "            [3,2,1,0]]\n",
    "print(\"\\n Elements at indices (1, 3), (1, 2), (0, 1), (3, 0): \\n\", arr5)"
   ]
  },
  {
   "cell_type": "code",
   "execution_count": null,
   "id": "2cb09b7f-68e3-4130-8fae-69c7dad04b6a",
   "metadata": {},
   "outputs": [],
   "source": [
    "# Now we'll play along with some array operations using numpy"
   ]
  }
 ],
 "metadata": {
  "kernelspec": {
   "display_name": "Python 3 (ipykernel)",
   "language": "python",
   "name": "python3"
  },
  "language_info": {
   "codemirror_mode": {
    "name": "ipython",
    "version": 3
   },
   "file_extension": ".py",
   "mimetype": "text/x-python",
   "name": "python",
   "nbconvert_exporter": "python",
   "pygments_lexer": "ipython3",
   "version": "3.11.7"
  }
 },
 "nbformat": 4,
 "nbformat_minor": 5
}
