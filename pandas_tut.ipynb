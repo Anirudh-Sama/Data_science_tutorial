{
 "cells": [
  {
   "cell_type": "code",
   "execution_count": 4,
   "id": "5cf3ca10-a5aa-4481-bcaf-4a9d817f9ca9",
   "metadata": {},
   "outputs": [
    {
     "name": "stdout",
     "output_type": "stream",
     "text": [
      "Empty DataFrame\n",
      "Columns: []\n",
      "Index: []\n"
     ]
    }
   ],
   "source": [
    "import pandas as pd\n",
    "import numpy as np\n",
    "\n",
    "#Creating a simple dataframe\n",
    "df = pd.DataFrame()\n",
    "print(df)"
   ]
  },
  {
   "cell_type": "code",
   "execution_count": 3,
   "id": "aff3f809-6277-42b6-957e-dc77dce404bf",
   "metadata": {},
   "outputs": [
    {
     "name": "stdout",
     "output_type": "stream",
     "text": [
      "['Geeks', 'for', 'Geeks', 'is', 'a', 'portal', 'for', 'Geeks']\n"
     ]
    }
   ],
   "source": [
    "#Creating a dataframe from a list\n",
    "lst = ['Geeks', 'for', 'Geeks', 'is', 'a', 'portal', 'for', 'Geeks']\n",
    "df = pd.DataFrame(lst)\n",
    "print(lst)"
   ]
  },
  {
   "cell_type": "code",
   "execution_count": 6,
   "id": "4f16d6bb-330e-47e8-b577-b0b0a923a82b",
   "metadata": {},
   "outputs": [
    {
     "name": "stdout",
     "output_type": "stream",
     "text": [
      "   A  B  C\n",
      "0  1  2  3\n",
      "1  4  5  6\n",
      "2  7  8  9\n"
     ]
    }
   ],
   "source": [
    "#Creating a dataframe from a dict of Numpy array\n",
    "data = np.array([[1, 2, 3], [4, 5, 6], [7, 8, 9]])\n",
    "df = pd.DataFrame(data, columns = ['A', 'B', 'C'])\n",
    "print(df)"
   ]
  },
  {
   "cell_type": "code",
   "execution_count": 7,
   "id": "57f6e260-ecd1-4459-be7d-ce4d0ec11713",
   "metadata": {},
   "outputs": [
    {
     "name": "stdout",
     "output_type": "stream",
     "text": [
      "     name  degree  score\n",
      "0  Aparna     MBA     90\n",
      "1  Pankaj     BCA     40\n",
      "2  Sudhir  M.Tech     80\n",
      "3   Geeku     MBA     98\n"
     ]
    }
   ],
   "source": [
    "#Creating a dataframe from a list of dictionaries\n",
    "dict = {'name': [\"Aparna\", \"Pankaj\", \"Sudhir\", \"Geeku\"], \n",
    "        'degree': [\"MBA\", \"BCA\", \"M.Tech\", \"MBA\"], \n",
    "        'score':[90, 40, 80, 98]}\n",
    "df = pd.DataFrame(dict)\n",
    "print(df)"
   ]
  },
  {
   "cell_type": "code",
   "execution_count": 9,
   "id": "344a93f9-2837-4363-a789-513e991363a8",
   "metadata": {},
   "outputs": [
    {
     "name": "stdout",
     "output_type": "stream",
     "text": [
      "RangeIndex(start=0, stop=5, step=1)\n"
     ]
    }
   ],
   "source": [
    "#Working with pandas dataFrame index\n",
    "#Accessing and modifying index\n",
    "data = {'Name': ['John', 'Alice', 'Bob', 'Eve', 'Charlie'],\n",
    "       'Age': [25, 30, 22, 35, 28],\n",
    "       'Gender' : ['Male', 'Female', 'Male', 'Female', 'Male'], \n",
    "       'Salary': [50000, 55000, 40000, 70000, 48000]}\n",
    "df = pd.DataFrame(data)\n",
    "print(df.index)"
   ]
  },
  {
   "cell_type": "code",
   "execution_count": 10,
   "id": "2567bcce-daa9-4302-9cb1-46c9636ba242",
   "metadata": {},
   "outputs": [
    {
     "name": "stdout",
     "output_type": "stream",
     "text": [
      "         Age  Gender  Salary\n",
      "Name                        \n",
      "John      25    Male   50000\n",
      "Alice     30  Female   55000\n",
      "Bob       22    Male   40000\n",
      "Eve       35  Female   70000\n",
      "Charlie   28    Male   48000\n"
     ]
    }
   ],
   "source": [
    "#Setting a custom index\n",
    "#Set 'Name' column as the index\n",
    "df_with_index = df.set_index('Name')\n",
    "print(df_with_index)"
   ]
  },
  {
   "cell_type": "code",
   "execution_count": 14,
   "id": "2234683d-d28b-4be0-9bcb-39f5fafe82c4",
   "metadata": {},
   "outputs": [
    {
     "name": "stdout",
     "output_type": "stream",
     "text": [
      "      Name  Age  Gender  Salary\n",
      "0     John   25    Male   50000\n",
      "1    Alice   30  Female   55000\n",
      "2      Bob   22    Male   40000\n",
      "3      Eve   35  Female   70000\n",
      "4  Charlie   28    Male   48000\n",
      "\n",
      "\n",
      "   index     Name  Age  Gender  Salary\n",
      "0      0     John   25    Male   50000\n",
      "1      1    Alice   30  Female   55000\n",
      "2      2      Bob   22    Male   40000\n",
      "3      3      Eve   35  Female   70000\n",
      "4      4  Charlie   28    Male   48000\n"
     ]
    }
   ],
   "source": [
    "#Resetting the index\n",
    "#Reset the index back to the default integer index\n",
    "print(df)\n",
    "df_old_index = df.reset_index()\n",
    "print(\"\\n\")\n",
    "print(df_old_index)"
   ]
  },
  {
   "cell_type": "code",
   "execution_count": 19,
   "id": "f2d502cc-8c65-4fd4-8a9a-ea3ad6499650",
   "metadata": {},
   "outputs": [
    {
     "name": "stdout",
     "output_type": "stream",
     "text": [
      "Age           30\n",
      "Gender    Female\n",
      "Salary     55000\n",
      "Name: Alice, dtype: object\n"
     ]
    }
   ],
   "source": [
    "#Indexing with loc\n",
    "df_with_index = df.set_index('Name')\n",
    "row = df_with_index.loc['Alice']\n",
    "print(row)"
   ]
  },
  {
   "cell_type": "code",
   "execution_count": 20,
   "id": "46aa8d55-740c-42b0-b88e-27b1231b041a",
   "metadata": {},
   "outputs": [
    {
     "name": "stdout",
     "output_type": "stream",
     "text": [
      "        Name  Gender  Salary\n",
      "Age                         \n",
      "25      John    Male   50000\n",
      "30     Alice  Female   55000\n",
      "22       Bob    Male   40000\n",
      "35       Eve  Female   70000\n",
      "28   Charlie    Male   48000\n"
     ]
    }
   ],
   "source": [
    "#Changing the new index\n",
    "#Set the 'Age' as the new index\n",
    "df_with_new_index = df.set_index('Age')\n",
    "print(df_with_new_index)"
   ]
  },
  {
   "cell_type": "code",
   "execution_count": null,
   "id": "97d614f4-87b4-4907-bf11-62fb90932e97",
   "metadata": {},
   "outputs": [],
   "source": []
  }
 ],
 "metadata": {
  "kernelspec": {
   "display_name": "Python 3 (ipykernel)",
   "language": "python",
   "name": "python3"
  },
  "language_info": {
   "codemirror_mode": {
    "name": "ipython",
    "version": 3
   },
   "file_extension": ".py",
   "mimetype": "text/x-python",
   "name": "python",
   "nbconvert_exporter": "python",
   "pygments_lexer": "ipython3",
   "version": "3.11.7"
  }
 },
 "nbformat": 4,
 "nbformat_minor": 5
}
