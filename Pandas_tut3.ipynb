{
 "cells": [
  {
   "cell_type": "code",
   "execution_count": 57,
   "id": "799ecf71-86fc-4e53-b41d-2daae3951e75",
   "metadata": {},
   "outputs": [],
   "source": [
    "# Slicing pandas DataFrame"
   ]
  },
  {
   "cell_type": "code",
   "execution_count": 58,
   "id": "a2fe4269-7f90-427d-ac12-74583822661f",
   "metadata": {},
   "outputs": [
    {
     "name": "stdout",
     "output_type": "stream",
     "text": [
      "            Name  Age  Weight   Salary\n",
      "0      M.S.Dhoni   36      75  5428000\n",
      "1  A.B.D Villers   38      74  3428000\n",
      "2        V.Kohli   31      70  8428000\n",
      "3        S.Smith   34      80  4428000\n",
      "4        C.Gayle   40     100  4528000\n",
      "5         J.Root   33      72  7028000\n",
      "6     K.Peterson   42      85  2528000\n"
     ]
    }
   ],
   "source": [
    "# Creating a custom dataframe\n",
    "import pandas as pd\n",
    "player_list = [['M.S.Dhoni', 36, 75, 5428000],\n",
    "               ['A.B.D Villers', 38, 74, 3428000],\n",
    "               ['V.Kohli', 31, 70, 8428000],\n",
    "               ['S.Smith', 34, 80, 4428000],\n",
    "               ['C.Gayle', 40, 100, 4528000],\n",
    "               ['J.Root', 33, 72, 7028000],\n",
    "               ['K.Peterson', 42, 85, 2528000]]\n",
    "df = pd.DataFrame(player_list, columns = [\"Name\", \"Age\", \"Weight\", \"Salary\"])\n",
    "print(df)"
   ]
  },
  {
   "cell_type": "code",
   "execution_count": 59,
   "id": "a9de3c46-1b89-415c-9f89-2668189f81f5",
   "metadata": {},
   "outputs": [],
   "source": [
    "# Slicing using iloc[] (Integer based Indexing)"
   ]
  },
  {
   "cell_type": "code",
   "execution_count": 60,
   "id": "17e2876f-de88-41e1-a7b0-ea6c5e690682",
   "metadata": {},
   "outputs": [
    {
     "name": "stdout",
     "output_type": "stream",
     "text": [
      "            Name  Age  Weight   Salary\n",
      "0      M.S.Dhoni   36      75  5428000\n",
      "1  A.B.D Villers   38      74  3428000\n",
      "2        V.Kohli   31      70  8428000\n",
      "3        S.Smith   34      80  4428000\n",
      "\n",
      "\n",
      "            Name  Age\n",
      "0      M.S.Dhoni   36\n",
      "1  A.B.D Villers   38\n",
      "2        V.Kohli   31\n",
      "3        S.Smith   34\n",
      "4        C.Gayle   40\n",
      "5         J.Root   33\n",
      "6     K.Peterson   42\n",
      "\n",
      "\n",
      "Print specific value:  8428000\n",
      "\n",
      "\n",
      "            Name  Age  Weight   Salary\n",
      "0      M.S.Dhoni   36      75  5428000\n",
      "1  A.B.D Villers   38      74  3428000\n",
      "4        C.Gayle   40     100  4528000\n",
      "6     K.Peterson   42      85  2528000\n"
     ]
    }
   ],
   "source": [
    "#Slicing rows in a dataframe\n",
    "df1 = df.iloc[0: 4]\n",
    "print(df1)\n",
    "print(\"\\n\")\n",
    "\n",
    "#slicing columns in a dataframe\n",
    "df2 = df.iloc[:, 0:2]\n",
    "print(df2)\n",
    "print(\"\\n\")\n",
    "\n",
    "#Selecting a specific column in a dataframe\n",
    "df3 = df.iloc[2, 3]\n",
    "print(\"Print specific value: \", df3)\n",
    "print(\"\\n\")\n",
    "\n",
    "#Selecting a specific cell in a Pandas DataFrame\n",
    "df4 = df[df['Age'] > 35].iloc[:, :]\n",
    "print(df4)"
   ]
  },
  {
   "cell_type": "code",
   "execution_count": 61,
   "id": "333ce5a7-6129-4a5b-bd88-01b081c6d84d",
   "metadata": {},
   "outputs": [],
   "source": [
    "# Slicing using loc"
   ]
  },
  {
   "cell_type": "code",
   "execution_count": 62,
   "id": "969a7db9-04ec-473d-b10c-e3ebca5dd4bb",
   "metadata": {},
   "outputs": [
    {
     "name": "stdout",
     "output_type": "stream",
     "text": [
      "               Age  Weight   Salary\n",
      "Name                               \n",
      "A.B.D Villers   38      74  3428000\n",
      "S.Smith         34      80  4428000\n",
      "\n",
      "\n",
      "Specific value of the cell is 8428000\n"
     ]
    }
   ],
   "source": [
    "# Slicing rows in a dataFrame\n",
    "df.set_index('Name', inplace=True)\n",
    "custom = df.loc[['A.B.D Villers', 'S.Smith']]\n",
    "print(custom)\n",
    "print(\"\\n\")\n",
    "\n",
    "#Selecting specific cells in a dataframe\n",
    "value = df.loc['V.Kohli', 'Salary']\n",
    "print(\"Specific value of the cell is\", value)"
   ]
  }
 ],
 "metadata": {
  "kernelspec": {
   "display_name": "Python 3 (ipykernel)",
   "language": "python",
   "name": "python3"
  },
  "language_info": {
   "codemirror_mode": {
    "name": "ipython",
    "version": 3
   },
   "file_extension": ".py",
   "mimetype": "text/x-python",
   "name": "python",
   "nbconvert_exporter": "python",
   "pygments_lexer": "ipython3",
   "version": "3.11.7"
  }
 },
 "nbformat": 4,
 "nbformat_minor": 5
}
